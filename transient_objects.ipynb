{
 "cells": [
  {
   "cell_type": "markdown",
   "id": "53ec94e3-8ca8-45bd-94e4-5c516c507de0",
   "metadata": {},
   "source": [
    "# Working with the Transient Class\n",
    "\n",
    "This notebook will go through working with the methods of the transient class and how they will be useful. First we will setup the otter connection, if this doesn't look familiar to you, you may want to return to the [basic_usage.ipynb](./basic_usage.ipynb) notebook!\n",
    "\n",
    "### Setup"
   ]
  },
  {
   "cell_type": "code",
   "execution_count": 1,
   "id": "5e09a5d2-5710-4b70-be3c-e93c1a433a1b",
   "metadata": {
    "tags": []
   },
   "outputs": [],
   "source": [
    "# imports\n",
    "import os\n",
    "import otter\n",
    "\n",
    "from astropy.coordinates import SkyCoord\n",
    "from astropy import units as u\n",
    "import pandas as pd\n",
    "\n",
    "import matplotlib.pyplot as plt"
   ]
  },
  {
   "cell_type": "code",
   "execution_count": null,
   "id": "353b39ef-7ed7-432c-97b0-7c248457bfd0",
   "metadata": {
    "tags": []
   },
   "outputs": [],
   "source": [
    "# connect to the dataset\n",
    "db = otter.Otter()"
   ]
  },
  {
   "cell_type": "markdown",
   "id": "75508813-0275-4779-8d0b-13976906cb47",
   "metadata": {},
   "source": [
    "### The `Transient` Class\n",
    "\n",
    "For the detailed documentation for this class see [https://astro-otter.readthedocs.io](https://astro-otter.readthedocs.io)."
   ]
  },
  {
   "cell_type": "markdown",
   "id": "666afd35-10cb-4689-9cc8-f04eedacd54d",
   "metadata": {},
   "source": [
    "The particularly useful methods here are the getters which return what we have deemed to be the \"default\" value of a property. \n",
    "\n",
    "First though, we must grab a transient from the OTTER dataset. Let's use ASASSN-14li since it has a pretty solid dataset."
   ]
  },
  {
   "cell_type": "code",
   "execution_count": 4,
   "id": "ca3a15ad-4ab8-4dcd-bb52-9b30c89af805",
   "metadata": {
    "tags": []
   },
   "outputs": [
    {
     "data": {
      "text/plain": [
       "Transient(\n",
       "\tName: ASASSN-14li,\n",
       "\tKeys: dict_keys(['_key', '_id', '_rev', 'distance', 'coordinate', 'filter_alias', 'classification', 'reference_alias', 'photometry', 'name', 'date_reference', 'schema_version', 'host'])\n",
       ")"
      ]
     },
     "execution_count": 4,
     "metadata": {},
     "output_type": "execute_result"
    }
   ],
   "source": [
    "t = db.query(names='ASASSN-14li')[0] # if you don't know why I use [0] go back to the basic_usage tutorial\n",
    "\n",
    "t"
   ]
  },
  {
   "cell_type": "markdown",
   "id": "a2751dde-4a84-4251-a3d0-c06eb1e7ebd8",
   "metadata": {},
   "source": [
    "And now that next few cells will demonstrate some of the more helpful getter methods and instance variables\n",
    "\n",
    "#### Name"
   ]
  },
  {
   "cell_type": "code",
   "execution_count": 5,
   "id": "1ac31166-0133-4f5d-af9b-c2737fd46572",
   "metadata": {
    "tags": []
   },
   "outputs": [
    {
     "data": {
      "text/plain": [
       "'ASASSN-14li'"
      ]
     },
     "execution_count": 5,
     "metadata": {},
     "output_type": "execute_result"
    }
   ],
   "source": [
    "t.default_name"
   ]
  },
  {
   "cell_type": "markdown",
   "id": "8994f9dc-67d7-463e-9448-da6fcdb89ece",
   "metadata": {},
   "source": [
    "#### Coordinate\n",
    "\n",
    "Note that this returns an astropy SkyCoord"
   ]
  },
  {
   "cell_type": "code",
   "execution_count": 6,
   "id": "b3fdd930-e8bf-4cae-a3f1-b59db5a5ee7d",
   "metadata": {
    "tags": []
   },
   "outputs": [
    {
     "data": {
      "text/plain": [
       "<SkyCoord (ICRS): (ra, dec) in deg\n",
       "    (192.06343875, 17.77402083)>"
      ]
     },
     "execution_count": 6,
     "metadata": {},
     "output_type": "execute_result"
    }
   ],
   "source": [
    "t.get_skycoord()"
   ]
  },
  {
   "cell_type": "markdown",
   "id": "11dd4573-b7d3-462b-8815-e74a5babd744",
   "metadata": {},
   "source": [
    "#### Classification\n",
    "\n",
    "This returns a tuple of (classification, our confidence, reference list)"
   ]
  },
  {
   "cell_type": "code",
   "execution_count": 7,
   "id": "2af31821-ad73-41e1-a631-5e6618f953fe",
   "metadata": {
    "tags": []
   },
   "outputs": [
    {
     "name": "stdout",
     "output_type": "stream",
     "text": [
      "ASASSN-14li is classified as TDE with a confidence of 1\n",
      "This has been confirmed by the following bibcodes:\n",
      "\t-2012PASP..124..668Y\n",
      "\t-2014ATel.6777....1J\n",
      "\t-2015Natur.526..542M\n",
      "\t-2016ApJ...819L..25A\n",
      "\t-2016ApJ...832L..10R\n",
      "\t-2016Sci...351...62V\n",
      "\t-2018MNRAS.475.4011B\n",
      "\t-2023PASP..135c4101G\n",
      "\t-2024ApJ...966..160G\n",
      "\t-2024MNRAS.527.2452M\n",
      "\t-ASAS-SN Supernovae\n"
     ]
    }
   ],
   "source": [
    "classification, conf, refs = t.get_classification()\n",
    "print(f'{t.default_name} is classified as {classification} with a confidence of {conf}')\n",
    "print(f'This has been confirmed by the following bibcodes:')\n",
    "for b in refs:\n",
    "    print(f'\\t-{b}')"
   ]
  },
  {
   "cell_type": "markdown",
   "id": "1bdc0a3d-b128-4146-b87e-b054490462c5",
   "metadata": {},
   "source": [
    "#### Redshift"
   ]
  },
  {
   "cell_type": "code",
   "execution_count": 8,
   "id": "6f24e66b-b5cd-4be7-9c95-87e68aa4c124",
   "metadata": {
    "tags": []
   },
   "outputs": [
    {
     "data": {
      "text/plain": [
       "'0.0206'"
      ]
     },
     "execution_count": 8,
     "metadata": {},
     "output_type": "execute_result"
    }
   ],
   "source": [
    "t.get_redshift()"
   ]
  },
  {
   "cell_type": "markdown",
   "id": "f3366a79-296d-4575-b0a5-c34df0d3358d",
   "metadata": {},
   "source": [
    "#### Discovery Date"
   ]
  },
  {
   "cell_type": "code",
   "execution_count": 9,
   "id": "0a8350ce-1fb2-47c2-8a10-59e80d689be2",
   "metadata": {
    "tags": []
   },
   "outputs": [
    {
     "data": {
      "text/plain": [
       "<Time object: scale='utc' format='mjd' value=56983.0>"
      ]
     },
     "execution_count": 9,
     "metadata": {},
     "output_type": "execute_result"
    }
   ],
   "source": [
    "t.get_discovery_date()"
   ]
  },
  {
   "cell_type": "markdown",
   "id": "da502375-bd50-4b12-9d83-a0da9c2339ba",
   "metadata": {},
   "source": [
    "#### Photometry\n",
    "Since the Transient object only has the unconverted photometry we recommend you use the `clean_photometry` method to convert everything appropriately."
   ]
  },
  {
   "cell_type": "code",
   "execution_count": 10,
   "id": "ac3bf923-6e77-4faf-93d5-d5b3fbec4954",
   "metadata": {
    "tags": []
   },
   "outputs": [
    {
     "data": {
      "text/html": [
       "<div>\n",
       "<style scoped>\n",
       "    .dataframe tbody tr th:only-of-type {\n",
       "        vertical-align: middle;\n",
       "    }\n",
       "\n",
       "    .dataframe tbody tr th {\n",
       "        vertical-align: top;\n",
       "    }\n",
       "\n",
       "    .dataframe thead th {\n",
       "        text-align: right;\n",
       "    }\n",
       "</style>\n",
       "<table border=\"1\" class=\"dataframe\">\n",
       "  <thead>\n",
       "    <tr style=\"text-align: right;\">\n",
       "      <th></th>\n",
       "      <th>reference</th>\n",
       "      <th>raw</th>\n",
       "      <th>raw_units</th>\n",
       "      <th>date</th>\n",
       "      <th>date_format</th>\n",
       "      <th>filter_key</th>\n",
       "      <th>computed</th>\n",
       "      <th>obs_type</th>\n",
       "      <th>upperlimit</th>\n",
       "      <th>corr_k</th>\n",
       "      <th>...</th>\n",
       "      <th>human_readable_refs</th>\n",
       "      <th>converted_wave</th>\n",
       "      <th>converted_wave_unit</th>\n",
       "      <th>converted_freq</th>\n",
       "      <th>converted_freq_unit</th>\n",
       "      <th>converted_flux</th>\n",
       "      <th>converted_flux_err</th>\n",
       "      <th>converted_flux_unit</th>\n",
       "      <th>converted_date</th>\n",
       "      <th>converted_date_unit</th>\n",
       "    </tr>\n",
       "  </thead>\n",
       "  <tbody>\n",
       "    <tr>\n",
       "      <th>683</th>\n",
       "      <td>2016Sci...351...62V</td>\n",
       "      <td>1.930000e+00</td>\n",
       "      <td>mJy</td>\n",
       "      <td>57014.08</td>\n",
       "      <td>mjd</td>\n",
       "      <td>15.7GHz</td>\n",
       "      <td>NaN</td>\n",
       "      <td>radio</td>\n",
       "      <td>False</td>\n",
       "      <td>False</td>\n",
       "      <td>...</td>\n",
       "      <td>van Velzen et al. (2016)</td>\n",
       "      <td>1.909506e+07</td>\n",
       "      <td>nm</td>\n",
       "      <td>1.570000e+01</td>\n",
       "      <td>GHz</td>\n",
       "      <td>15.686107</td>\n",
       "      <td>0.052494</td>\n",
       "      <td>mag(AB)</td>\n",
       "      <td>57014.08</td>\n",
       "      <td>MJD</td>\n",
       "    </tr>\n",
       "    <tr>\n",
       "      <th>684</th>\n",
       "      <td>2016Sci...351...62V</td>\n",
       "      <td>1.950000e+00</td>\n",
       "      <td>mJy</td>\n",
       "      <td>57015.17</td>\n",
       "      <td>mjd</td>\n",
       "      <td>15.7GHz</td>\n",
       "      <td>NaN</td>\n",
       "      <td>radio</td>\n",
       "      <td>False</td>\n",
       "      <td>False</td>\n",
       "      <td>...</td>\n",
       "      <td>van Velzen et al. (2016)</td>\n",
       "      <td>1.909506e+07</td>\n",
       "      <td>nm</td>\n",
       "      <td>1.570000e+01</td>\n",
       "      <td>GHz</td>\n",
       "      <td>15.674913</td>\n",
       "      <td>0.061402</td>\n",
       "      <td>mag(AB)</td>\n",
       "      <td>57015.17</td>\n",
       "      <td>MJD</td>\n",
       "    </tr>\n",
       "    <tr>\n",
       "      <th>685</th>\n",
       "      <td>2016Sci...351...62V</td>\n",
       "      <td>1.980000e+00</td>\n",
       "      <td>mJy</td>\n",
       "      <td>57017.10</td>\n",
       "      <td>mjd</td>\n",
       "      <td>15.7GHz</td>\n",
       "      <td>NaN</td>\n",
       "      <td>radio</td>\n",
       "      <td>False</td>\n",
       "      <td>False</td>\n",
       "      <td>...</td>\n",
       "      <td>van Velzen et al. (2016)</td>\n",
       "      <td>1.909506e+07</td>\n",
       "      <td>nm</td>\n",
       "      <td>1.570000e+01</td>\n",
       "      <td>GHz</td>\n",
       "      <td>15.658337</td>\n",
       "      <td>0.051169</td>\n",
       "      <td>mag(AB)</td>\n",
       "      <td>57017.10</td>\n",
       "      <td>MJD</td>\n",
       "    </tr>\n",
       "    <tr>\n",
       "      <th>686</th>\n",
       "      <td>2016Sci...351...62V</td>\n",
       "      <td>2.100000e+00</td>\n",
       "      <td>mJy</td>\n",
       "      <td>57021.11</td>\n",
       "      <td>mjd</td>\n",
       "      <td>15.7GHz</td>\n",
       "      <td>NaN</td>\n",
       "      <td>radio</td>\n",
       "      <td>False</td>\n",
       "      <td>False</td>\n",
       "      <td>...</td>\n",
       "      <td>van Velzen et al. (2016)</td>\n",
       "      <td>1.909506e+07</td>\n",
       "      <td>nm</td>\n",
       "      <td>1.570000e+01</td>\n",
       "      <td>GHz</td>\n",
       "      <td>15.594452</td>\n",
       "      <td>0.052631</td>\n",
       "      <td>mag(AB)</td>\n",
       "      <td>57021.11</td>\n",
       "      <td>MJD</td>\n",
       "    </tr>\n",
       "    <tr>\n",
       "      <th>687</th>\n",
       "      <td>2016Sci...351...62V</td>\n",
       "      <td>1.580000e+00</td>\n",
       "      <td>mJy</td>\n",
       "      <td>57039.09</td>\n",
       "      <td>mjd</td>\n",
       "      <td>15.7GHz</td>\n",
       "      <td>NaN</td>\n",
       "      <td>radio</td>\n",
       "      <td>False</td>\n",
       "      <td>False</td>\n",
       "      <td>...</td>\n",
       "      <td>van Velzen et al. (2016)</td>\n",
       "      <td>1.909506e+07</td>\n",
       "      <td>nm</td>\n",
       "      <td>1.570000e+01</td>\n",
       "      <td>GHz</td>\n",
       "      <td>15.903357</td>\n",
       "      <td>0.052464</td>\n",
       "      <td>mag(AB)</td>\n",
       "      <td>57039.09</td>\n",
       "      <td>MJD</td>\n",
       "    </tr>\n",
       "    <tr>\n",
       "      <th>...</th>\n",
       "      <td>...</td>\n",
       "      <td>...</td>\n",
       "      <td>...</td>\n",
       "      <td>...</td>\n",
       "      <td>...</td>\n",
       "      <td>...</td>\n",
       "      <td>...</td>\n",
       "      <td>...</td>\n",
       "      <td>...</td>\n",
       "      <td>...</td>\n",
       "      <td>...</td>\n",
       "      <td>...</td>\n",
       "      <td>...</td>\n",
       "      <td>...</td>\n",
       "      <td>...</td>\n",
       "      <td>...</td>\n",
       "      <td>...</td>\n",
       "      <td>...</td>\n",
       "      <td>...</td>\n",
       "      <td>...</td>\n",
       "      <td>...</td>\n",
       "    </tr>\n",
       "    <tr>\n",
       "      <th>823</th>\n",
       "      <td>[2024ApJ...966..160G]</td>\n",
       "      <td>2.582741e-11</td>\n",
       "      <td>erg cm^-2 s^-1</td>\n",
       "      <td>57023</td>\n",
       "      <td>mjd</td>\n",
       "      <td>0.2 - 12</td>\n",
       "      <td>NaN</td>\n",
       "      <td>xray</td>\n",
       "      <td>False</td>\n",
       "      <td>NaN</td>\n",
       "      <td>...</td>\n",
       "      <td>Guolo, Muryel et al. (2024)</td>\n",
       "      <td>1.050714e-01</td>\n",
       "      <td>nm</td>\n",
       "      <td>2.853227e+09</td>\n",
       "      <td>GHz</td>\n",
       "      <td>21.803698</td>\n",
       "      <td>0.172802</td>\n",
       "      <td>mag(AB)</td>\n",
       "      <td>57023.00</td>\n",
       "      <td>MJD</td>\n",
       "    </tr>\n",
       "    <tr>\n",
       "      <th>824</th>\n",
       "      <td>[2024ApJ...966..160G]</td>\n",
       "      <td>7.327828e-12</td>\n",
       "      <td>erg cm^-2 s^-1</td>\n",
       "      <td>57213</td>\n",
       "      <td>mjd</td>\n",
       "      <td>0.2 - 12</td>\n",
       "      <td>NaN</td>\n",
       "      <td>xray</td>\n",
       "      <td>False</td>\n",
       "      <td>NaN</td>\n",
       "      <td>...</td>\n",
       "      <td>Guolo, Muryel et al. (2024)</td>\n",
       "      <td>1.050714e-01</td>\n",
       "      <td>nm</td>\n",
       "      <td>2.853227e+09</td>\n",
       "      <td>GHz</td>\n",
       "      <td>23.171462</td>\n",
       "      <td>0.299783</td>\n",
       "      <td>mag(AB)</td>\n",
       "      <td>57213.00</td>\n",
       "      <td>MJD</td>\n",
       "    </tr>\n",
       "    <tr>\n",
       "      <th>825</th>\n",
       "      <td>[2024ApJ...966..160G]</td>\n",
       "      <td>4.875698e-12</td>\n",
       "      <td>erg cm^-2 s^-1</td>\n",
       "      <td>57399</td>\n",
       "      <td>mjd</td>\n",
       "      <td>0.2 - 12</td>\n",
       "      <td>NaN</td>\n",
       "      <td>xray</td>\n",
       "      <td>False</td>\n",
       "      <td>NaN</td>\n",
       "      <td>...</td>\n",
       "      <td>Guolo, Muryel et al. (2024)</td>\n",
       "      <td>1.050714e-01</td>\n",
       "      <td>nm</td>\n",
       "      <td>2.853227e+09</td>\n",
       "      <td>GHz</td>\n",
       "      <td>23.613808</td>\n",
       "      <td>0.353376</td>\n",
       "      <td>mag(AB)</td>\n",
       "      <td>57399.00</td>\n",
       "      <td>MJD</td>\n",
       "    </tr>\n",
       "    <tr>\n",
       "      <th>826</th>\n",
       "      <td>[2024ApJ...966..160G]</td>\n",
       "      <td>1.395783e-12</td>\n",
       "      <td>erg cm^-2 s^-1</td>\n",
       "      <td>57726</td>\n",
       "      <td>mjd</td>\n",
       "      <td>0.2 - 12</td>\n",
       "      <td>NaN</td>\n",
       "      <td>xray</td>\n",
       "      <td>False</td>\n",
       "      <td>NaN</td>\n",
       "      <td>...</td>\n",
       "      <td>Guolo, Muryel et al. (2024)</td>\n",
       "      <td>1.050714e-01</td>\n",
       "      <td>nm</td>\n",
       "      <td>2.853227e+09</td>\n",
       "      <td>GHz</td>\n",
       "      <td>24.971855</td>\n",
       "      <td>0.610180</td>\n",
       "      <td>mag(AB)</td>\n",
       "      <td>57726.00</td>\n",
       "      <td>MJD</td>\n",
       "    </tr>\n",
       "    <tr>\n",
       "      <th>827</th>\n",
       "      <td>[2024ApJ...966..160G]</td>\n",
       "      <td>4.809054e-13</td>\n",
       "      <td>erg cm^-2 s^-1</td>\n",
       "      <td>58092</td>\n",
       "      <td>mjd</td>\n",
       "      <td>0.2 - 12</td>\n",
       "      <td>NaN</td>\n",
       "      <td>xray</td>\n",
       "      <td>False</td>\n",
       "      <td>NaN</td>\n",
       "      <td>...</td>\n",
       "      <td>Guolo, Muryel et al. (2024)</td>\n",
       "      <td>1.050714e-01</td>\n",
       "      <td>nm</td>\n",
       "      <td>2.853227e+09</td>\n",
       "      <td>GHz</td>\n",
       "      <td>26.128751</td>\n",
       "      <td>0.728098</td>\n",
       "      <td>mag(AB)</td>\n",
       "      <td>58092.00</td>\n",
       "      <td>MJD</td>\n",
       "    </tr>\n",
       "  </tbody>\n",
       "</table>\n",
       "<p>882 rows × 39 columns</p>\n",
       "</div>"
      ],
      "text/plain": [
       "                 reference           raw       raw_units      date  \\\n",
       "683    2016Sci...351...62V  1.930000e+00             mJy  57014.08   \n",
       "684    2016Sci...351...62V  1.950000e+00             mJy  57015.17   \n",
       "685    2016Sci...351...62V  1.980000e+00             mJy  57017.10   \n",
       "686    2016Sci...351...62V  2.100000e+00             mJy  57021.11   \n",
       "687    2016Sci...351...62V  1.580000e+00             mJy  57039.09   \n",
       "..                     ...           ...             ...       ...   \n",
       "823  [2024ApJ...966..160G]  2.582741e-11  erg cm^-2 s^-1     57023   \n",
       "824  [2024ApJ...966..160G]  7.327828e-12  erg cm^-2 s^-1     57213   \n",
       "825  [2024ApJ...966..160G]  4.875698e-12  erg cm^-2 s^-1     57399   \n",
       "826  [2024ApJ...966..160G]  1.395783e-12  erg cm^-2 s^-1     57726   \n",
       "827  [2024ApJ...966..160G]  4.809054e-13  erg cm^-2 s^-1     58092   \n",
       "\n",
       "    date_format filter_key computed obs_type  upperlimit corr_k  ...  \\\n",
       "683         mjd    15.7GHz      NaN    radio       False  False  ...   \n",
       "684         mjd    15.7GHz      NaN    radio       False  False  ...   \n",
       "685         mjd    15.7GHz      NaN    radio       False  False  ...   \n",
       "686         mjd    15.7GHz      NaN    radio       False  False  ...   \n",
       "687         mjd    15.7GHz      NaN    radio       False  False  ...   \n",
       "..          ...        ...      ...      ...         ...    ...  ...   \n",
       "823         mjd   0.2 - 12      NaN     xray       False    NaN  ...   \n",
       "824         mjd   0.2 - 12      NaN     xray       False    NaN  ...   \n",
       "825         mjd   0.2 - 12      NaN     xray       False    NaN  ...   \n",
       "826         mjd   0.2 - 12      NaN     xray       False    NaN  ...   \n",
       "827         mjd   0.2 - 12      NaN     xray       False    NaN  ...   \n",
       "\n",
       "             human_readable_refs converted_wave converted_wave_unit  \\\n",
       "683     van Velzen et al. (2016)   1.909506e+07                  nm   \n",
       "684     van Velzen et al. (2016)   1.909506e+07                  nm   \n",
       "685     van Velzen et al. (2016)   1.909506e+07                  nm   \n",
       "686     van Velzen et al. (2016)   1.909506e+07                  nm   \n",
       "687     van Velzen et al. (2016)   1.909506e+07                  nm   \n",
       "..                           ...            ...                 ...   \n",
       "823  Guolo, Muryel et al. (2024)   1.050714e-01                  nm   \n",
       "824  Guolo, Muryel et al. (2024)   1.050714e-01                  nm   \n",
       "825  Guolo, Muryel et al. (2024)   1.050714e-01                  nm   \n",
       "826  Guolo, Muryel et al. (2024)   1.050714e-01                  nm   \n",
       "827  Guolo, Muryel et al. (2024)   1.050714e-01                  nm   \n",
       "\n",
       "    converted_freq  converted_freq_unit converted_flux converted_flux_err  \\\n",
       "683   1.570000e+01                  GHz      15.686107           0.052494   \n",
       "684   1.570000e+01                  GHz      15.674913           0.061402   \n",
       "685   1.570000e+01                  GHz      15.658337           0.051169   \n",
       "686   1.570000e+01                  GHz      15.594452           0.052631   \n",
       "687   1.570000e+01                  GHz      15.903357           0.052464   \n",
       "..             ...                  ...            ...                ...   \n",
       "823   2.853227e+09                  GHz      21.803698           0.172802   \n",
       "824   2.853227e+09                  GHz      23.171462           0.299783   \n",
       "825   2.853227e+09                  GHz      23.613808           0.353376   \n",
       "826   2.853227e+09                  GHz      24.971855           0.610180   \n",
       "827   2.853227e+09                  GHz      26.128751           0.728098   \n",
       "\n",
       "    converted_flux_unit  converted_date  converted_date_unit  \n",
       "683             mag(AB)        57014.08                  MJD  \n",
       "684             mag(AB)        57015.17                  MJD  \n",
       "685             mag(AB)        57017.10                  MJD  \n",
       "686             mag(AB)        57021.11                  MJD  \n",
       "687             mag(AB)        57039.09                  MJD  \n",
       "..                  ...             ...                  ...  \n",
       "823             mag(AB)        57023.00                  MJD  \n",
       "824             mag(AB)        57213.00                  MJD  \n",
       "825             mag(AB)        57399.00                  MJD  \n",
       "826             mag(AB)        57726.00                  MJD  \n",
       "827             mag(AB)        58092.00                  MJD  \n",
       "\n",
       "[882 rows x 39 columns]"
      ]
     },
     "execution_count": 10,
     "metadata": {},
     "output_type": "execute_result"
    }
   ],
   "source": [
    "t.clean_photometry()"
   ]
  },
  {
   "cell_type": "markdown",
   "id": "752e8218-296c-457c-84bf-6ce7d2016851",
   "metadata": {},
   "source": [
    "#### Host Information\n",
    "\n",
    "This will return a list of otter `Host` objects. See the tutorial [host_objects.ipynb](./host_objects.ipynb) for more details on the functionality we provide here.\n",
    "\n",
    "The Host objects only store metadata on the host like redshift, ra, dec, and name. If a Host is not in OTTER, we attempt to find the best matching hosts using [astro-ghost](https://uiucsnastro-ghost.readthedocs.io/en/latest/)."
   ]
  },
  {
   "cell_type": "code",
   "execution_count": 11,
   "id": "b0914bb8-e49f-4631-926c-6b3b9c6c0b6f",
   "metadata": {
    "tags": []
   },
   "outputs": [
    {
     "data": {
      "text/plain": [
       "(SDSS J124815.23+174626.4 @ (RA, Dec)=(192.06249999999997 deg,17.77401111111111 deg),\n",
       " list,\n",
       " otter.io.host.Host)"
      ]
     },
     "execution_count": 11,
     "metadata": {},
     "output_type": "execute_result"
    }
   ],
   "source": [
    "hlist = t.get_host()\n",
    "h0 = hlist[0]\n",
    "\n",
    "h0, type(hlist), type(h0)"
   ]
  },
  {
   "cell_type": "markdown",
   "id": "cdaf49f5-e8bc-430b-ac37-119adf24e365",
   "metadata": {},
   "source": [
    "### Advanced Usage of the Transient Class\n",
    "\n",
    "Say you want other information that is not easily accessible by the getters shown above. Or, you think we are wrong about the default value for that property. You can then just treat the Transient object like a python dictionary to access the other values for those properties yourself.\n",
    "\n",
    "First, it has a `keys` method, so let's start there."
   ]
  },
  {
   "cell_type": "code",
   "execution_count": 12,
   "id": "f47d03b5-5231-454a-9eae-ea917b9162e9",
   "metadata": {
    "tags": []
   },
   "outputs": [
    {
     "data": {
      "text/plain": [
       "dict_keys(['_key', '_id', '_rev', 'distance', 'coordinate', 'filter_alias', 'classification', 'reference_alias', 'photometry', 'name', 'date_reference', 'schema_version', 'host'])"
      ]
     },
     "execution_count": 12,
     "metadata": {},
     "output_type": "execute_result"
    }
   ],
   "source": [
    "t.keys()"
   ]
  },
  {
   "cell_type": "markdown",
   "id": "9099ec23-f035-4e9b-bfdd-14f3b71701a4",
   "metadata": {},
   "source": [
    "Let's say you want to see what other distance measurements exist for ASASSN-14li besides the redshift. Let's check that property"
   ]
  },
  {
   "cell_type": "code",
   "execution_count": 13,
   "id": "fac48b2f-2952-426b-81d6-366fab7b99ca",
   "metadata": {
    "tags": []
   },
   "outputs": [
    {
     "data": {
      "text/plain": [
       "[{'value': '0.019999999552965164',\n",
       "  'distance_type': 'redshift',\n",
       "  'reference': ['2024ApJ...966..160G'],\n",
       "  'default': False},\n",
       " {'value': '0.0205778',\n",
       "  'distance_type': 'redshift',\n",
       "  'reference': ['2015Natur.526..542M', '2024MNRAS.527.2452M'],\n",
       "  'default': False},\n",
       " {'value': '0.0206',\n",
       "  'distance_type': 'redshift',\n",
       "  'reference': ['2012PASP..124..668Y',\n",
       "   '2014ATel.6777....1J',\n",
       "   '2015arXiv150701598H',\n",
       "   '2016ApJ...819L..25A',\n",
       "   '2016ApJ...832L..10R',\n",
       "   '2016Sci...351...62V',\n",
       "   '2017ApJ...838..149A',\n",
       "   '2018MNRAS.475.4011B',\n",
       "   '2023PASP..135c4101G',\n",
       "   'ASAS-SN Supernovae'],\n",
       "  'default': True},\n",
       " {'value': '0.021',\n",
       "  'distance_type': 'redshift',\n",
       "  'reference': ['2024ApJ...974..241A'],\n",
       "  'default': False},\n",
       " {'value': '81.0',\n",
       "  'distance_type': 'dispersion_measure',\n",
       "  'unit': 'km/s',\n",
       "  'reference': ['2017MNRAS.471.1694W', '2024MNRAS.527.2452M'],\n",
       "  'default': True},\n",
       " {'value': '90.7',\n",
       "  'distance_type': 'comoving',\n",
       "  'unit': 'Mpc',\n",
       "  'reference': ['2012PASP..124..668Y',\n",
       "   '2014ATel.6777....1J',\n",
       "   '2015arXiv150701598H',\n",
       "   '2016A&A...594A..13P',\n",
       "   '2017ApJ...835...64G',\n",
       "   '2017ApJ...838..149A',\n",
       "   'ASAS-SN Supernovae'],\n",
       "  'default': True},\n",
       " {'value': '92.6',\n",
       "  'distance_type': 'luminosity',\n",
       "  'unit': 'Mpc',\n",
       "  'reference': ['2012PASP..124..668Y',\n",
       "   '2014ATel.6777....1J',\n",
       "   '2015arXiv150701598H',\n",
       "   '2016A&A...594A..13P',\n",
       "   '2017ApJ...835...64G',\n",
       "   '2017ApJ...838..149A',\n",
       "   'ASAS-SN Supernovae'],\n",
       "  'default': True}]"
      ]
     },
     "execution_count": 13,
     "metadata": {},
     "output_type": "execute_result"
    }
   ],
   "source": [
    "t['distance']"
   ]
  },
  {
   "cell_type": "markdown",
   "id": "de4e2bbc-fe8d-4e7d-92c2-109edc9cc743",
   "metadata": {},
   "source": [
    "Just like most of the properties here, it is a list of distances with some keywords that tell you about it. \n",
    "\n",
    "To work with this, we can simply put it in a pandas dataframe and filter it accordingly. Say you only want luminosity distances, we can then filter that pandas dataframe by the `distance_type` column."
   ]
  },
  {
   "cell_type": "code",
   "execution_count": 14,
   "id": "9196b84a-f88f-4c59-ab9e-481940775a14",
   "metadata": {
    "tags": []
   },
   "outputs": [
    {
     "data": {
      "text/html": [
       "<div>\n",
       "<style scoped>\n",
       "    .dataframe tbody tr th:only-of-type {\n",
       "        vertical-align: middle;\n",
       "    }\n",
       "\n",
       "    .dataframe tbody tr th {\n",
       "        vertical-align: top;\n",
       "    }\n",
       "\n",
       "    .dataframe thead th {\n",
       "        text-align: right;\n",
       "    }\n",
       "</style>\n",
       "<table border=\"1\" class=\"dataframe\">\n",
       "  <thead>\n",
       "    <tr style=\"text-align: right;\">\n",
       "      <th></th>\n",
       "      <th>value</th>\n",
       "      <th>distance_type</th>\n",
       "      <th>reference</th>\n",
       "      <th>default</th>\n",
       "      <th>unit</th>\n",
       "    </tr>\n",
       "  </thead>\n",
       "  <tbody>\n",
       "    <tr>\n",
       "      <th>6</th>\n",
       "      <td>92.6</td>\n",
       "      <td>luminosity</td>\n",
       "      <td>[2012PASP..124..668Y, 2014ATel.6777....1J, 201...</td>\n",
       "      <td>True</td>\n",
       "      <td>Mpc</td>\n",
       "    </tr>\n",
       "  </tbody>\n",
       "</table>\n",
       "</div>"
      ],
      "text/plain": [
       "  value distance_type                                          reference  \\\n",
       "6  92.6    luminosity  [2012PASP..124..668Y, 2014ATel.6777....1J, 201...   \n",
       "\n",
       "   default unit  \n",
       "6     True  Mpc  "
      ]
     },
     "execution_count": 14,
     "metadata": {},
     "output_type": "execute_result"
    }
   ],
   "source": [
    "dists = pd.DataFrame(t['distance'])\n",
    "lum_dists = dists[dists.distance_type == 'luminosity']\n",
    "lum_dists"
   ]
  },
  {
   "cell_type": "markdown",
   "id": "268867e4-f86d-4d55-820f-043b7d375456",
   "metadata": {},
   "source": [
    "Which then gives you a luminosity distance and the references you need to cite when you put it in your paper!\n",
    "\n",
    "A similar process can be used for the rest of the properties so I won't go through them in detail here but just remember, the Transient objects are basically just fancy python dictionaries!"
   ]
  }
 ],
 "metadata": {
  "kernelspec": {
   "display_name": "Python 3 (ipykernel)",
   "language": "python",
   "name": "python3"
  },
  "language_info": {
   "codemirror_mode": {
    "name": "ipython",
    "version": 3
   },
   "file_extension": ".py",
   "mimetype": "text/x-python",
   "name": "python",
   "nbconvert_exporter": "python",
   "pygments_lexer": "ipython3",
   "version": "3.11.7"
  }
 },
 "nbformat": 4,
 "nbformat_minor": 5
}
