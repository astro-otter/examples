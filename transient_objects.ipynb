{
 "cells": [
  {
   "cell_type": "markdown",
   "id": "53ec94e3-8ca8-45bd-94e4-5c516c507de0",
   "metadata": {},
   "source": [
    "# Working with the Transient Class\n",
    "\n",
    "This notebook will go through working with the methods of the transient class and how they will be useful. First we will setup the otter connection, if this doesn't look familiar to you, you may want to return to the [basic_usage.ipynb](./basic_usage.ipynb) notebook!\n",
    "\n",
    "### Setup"
   ]
  },
  {
   "cell_type": "code",
   "execution_count": 1,
   "id": "5e09a5d2-5710-4b70-be3c-e93c1a433a1b",
   "metadata": {
    "tags": []
   },
   "outputs": [],
   "source": [
    "# imports\n",
    "import os\n",
    "import otter\n",
    "\n",
    "from astropy.coordinates import SkyCoord\n",
    "from astropy import units as u\n",
    "import pandas as pd\n",
    "\n",
    "import matplotlib.pyplot as plt"
   ]
  },
  {
   "cell_type": "code",
   "execution_count": 2,
   "id": "353b39ef-7ed7-432c-97b0-7c248457bfd0",
   "metadata": {
    "tags": []
   },
   "outputs": [],
   "source": [
    "# THIS IS WHAT YOU CHANGE IF YOU HAVE THE DATA IN A DIFFERENT PATH\n",
    "otterpath = os.path.join(os.environ['OTTER_DATA_DIR']) \n",
    "\n",
    "# connect to the dataset\n",
    "db = otter.Otter(otterpath)\n",
    "summary = db.generate_summary_table(save=True)"
   ]
  },
  {
   "cell_type": "markdown",
   "id": "75508813-0275-4779-8d0b-13976906cb47",
   "metadata": {},
   "source": [
    "### The `Transient` Class\n",
    "\n",
    "The first thing I will do is display the documentation for this class so you can skim through the methods. Although, for more details, and a cleaner appearance, see [https://astro-otter.readthedocs.io](https://astro-otter.readthedocs.io)."
   ]
  },
  {
   "cell_type": "code",
   "execution_count": 3,
   "id": "d6790ae7-cc53-4e73-9b05-0297b8c4f1ec",
   "metadata": {
    "tags": []
   },
   "outputs": [
    {
     "name": "stdout",
     "output_type": "stream",
     "text": [
      "Help on class Transient in module otter.io.transient:\n",
      "\n",
      "class Transient(collections.abc.MutableMapping)\n",
      " |  Transient(d={}, name=None)\n",
      " |  \n",
      " |  Method resolution order:\n",
      " |      Transient\n",
      " |      collections.abc.MutableMapping\n",
      " |      collections.abc.Mapping\n",
      " |      collections.abc.Collection\n",
      " |      collections.abc.Sized\n",
      " |      collections.abc.Iterable\n",
      " |      collections.abc.Container\n",
      " |      builtins.object\n",
      " |  \n",
      " |  Methods defined here:\n",
      " |  \n",
      " |  __add__(self, other, strict_merge=True)\n",
      " |      Merge this transient object with another transient object\n",
      " |      \n",
      " |      Args:\n",
      " |          other [Transient]: A Transient object to merge with\n",
      " |          strict_merge [bool]: If True it won't let you merge objects that\n",
      " |                               intuitively shouldn't be merged (ie. different\n",
      " |                               transient events).\n",
      " |  \n",
      " |  __delitem__(self, keys)\n",
      " |  \n",
      " |  __getitem__(self, keys)\n",
      " |      Override getitem to recursively access Transient elements\n",
      " |  \n",
      " |  __init__(self, d={}, name=None)\n",
      " |      Overwrite the dictionary init\n",
      " |      \n",
      " |      Args:\n",
      " |          d (dict): A transient dictionary\n",
      " |          name (str): The default name of the transient, default is None and it will\n",
      " |                      be inferred from the input dictionary.\n",
      " |  \n",
      " |  __iter__(self)\n",
      " |  \n",
      " |  __len__(self)\n",
      " |  \n",
      " |  __repr__(self, html=False)\n",
      " |      Return repr(self).\n",
      " |  \n",
      " |  __setitem__(self, key, value)\n",
      " |      Override set item to work with the '/' syntax\n",
      " |  \n",
      " |  clean_photometry(self, flux_unit: 'u.Unit' = 'mag(AB)', date_unit: 'u.Unit' = 'MJD', freq_unit: 'u.Unit' = 'GHz', wave_unit: 'u.Unit' = 'nm', by: 'str' = 'raw', obs_type: 'str' = None) -> 'pd.DataFrame'\n",
      " |      Ensure the photometry associated with this transient is all in the same\n",
      " |      units/system/etc\n",
      " |      \n",
      " |      Args:\n",
      " |          flux_unit (astropy.unit.Unit): The astropy unit or string representation of\n",
      " |                                         an astropy unit to convert and return the\n",
      " |                                         flux as.\n",
      " |          date_unit (str): Valid astropy date format string.\n",
      " |          freq_unit (astropy.unit.Unit): The astropy unit or string representation of\n",
      " |                                         an astropy unit to convert and return the\n",
      " |                                         frequency as.\n",
      " |          wave_unit (astropy.unit.Unit): The astropy unit or string representation of\n",
      " |                                         an astropy unit to convert and return the\n",
      " |                                         wavelength as.\n",
      " |          by (str): Either 'raw' or 'value'. 'raw' is the default and is highly\n",
      " |                    recommended! If 'value' is used it may skip some photometry.\n",
      " |                    See the schema definition to understand this keyword completely\n",
      " |                    before using it.\n",
      " |          obs_type (str): \"radio\", \"xray\", or \"uvoir\". If provided, it only returns\n",
      " |                          data taken within that range of wavelengths/frequencies.\n",
      " |                          Default is None which will return all of the data.\n",
      " |      \n",
      " |      Returns:\n",
      " |          A pandas DataFrame of the cleaned up photometry in the requested units\n",
      " |  \n",
      " |  get_classification(self) -> 'tuple(str, float, list)'\n",
      " |      Get the default classification of this Transient.\n",
      " |      This normally corresponds to the highest confidence classification that we have\n",
      " |      stored for the transient.\n",
      " |      \n",
      " |      Returns:\n",
      " |          The default object class as a string, the confidence level in that class,\n",
      " |          and a list of the bibcodes corresponding to that classification. Or, None\n",
      " |          if there is no classification.\n",
      " |  \n",
      " |  get_discovery_date(self) -> 'Time'\n",
      " |      Get the default discovery date for this Transient\n",
      " |      \n",
      " |      Returns:\n",
      " |          astropy.time.Time of the default discovery date\n",
      " |  \n",
      " |  get_host(self, max_hosts=3, **kwargs) -> 'list[Host]'\n",
      " |      Gets the default host information of this Transient. This returns an otter.Host\n",
      " |      object. If no host is known in OTTER, it uses astro-ghost to find the best\n",
      " |      match.\n",
      " |      \n",
      " |      Args:\n",
      " |          max_hosts [int] : The maximum number of hosts to return\n",
      " |          **kwargs : keyword arguments to be passed to getGHOST\n",
      " |      \n",
      " |      Returns:\n",
      " |          A list of otter.Host objects. This is useful becuase the Host objects have\n",
      " |          useful methods for querying public catalogs for data of the host.\n",
      " |  \n",
      " |  get_meta(self, keys=None) -> 'Self'\n",
      " |      Get the metadata (no photometry or spectra)\n",
      " |      \n",
      " |      This essentially just wraps on __getitem__ but with some checks\n",
      " |      \n",
      " |      Args:\n",
      " |          keys (list[str]) : list of keys to get the metadata for from the transient\n",
      " |      \n",
      " |      Returns:\n",
      " |          A Transient object of just the meta data\n",
      " |  \n",
      " |  get_redshift(self) -> 'float'\n",
      " |      Get the default redshift of this Transient\n",
      " |      \n",
      " |      Returns:\n",
      " |          Float value of the default redshift\n",
      " |  \n",
      " |  get_skycoord(self, coord_format='icrs') -> 'SkyCoord'\n",
      " |      Convert the coordinates to an astropy SkyCoord\n",
      " |      \n",
      " |      Args:\n",
      " |          coord_format (str): Astropy coordinate format to convert the SkyCoord to\n",
      " |                              defaults to icrs.\n",
      " |      \n",
      " |      Returns:\n",
      " |          Astropy.coordinates.SkyCoord of the default coordinate for the transient\n",
      " |  \n",
      " |  keys(self)\n",
      " |      D.keys() -> a set-like object providing a view on D's keys\n",
      " |  \n",
      " |  ----------------------------------------------------------------------\n",
      " |  Data descriptors defined here:\n",
      " |  \n",
      " |  __dict__\n",
      " |      dictionary for instance variables (if defined)\n",
      " |  \n",
      " |  __weakref__\n",
      " |      list of weak references to the object (if defined)\n",
      " |  \n",
      " |  ----------------------------------------------------------------------\n",
      " |  Data and other attributes defined here:\n",
      " |  \n",
      " |  __abstractmethods__ = frozenset()\n",
      " |  \n",
      " |  ----------------------------------------------------------------------\n",
      " |  Methods inherited from collections.abc.MutableMapping:\n",
      " |  \n",
      " |  clear(self)\n",
      " |      D.clear() -> None.  Remove all items from D.\n",
      " |  \n",
      " |  pop(self, key, default=<object object at 0x7390a2f0c150>)\n",
      " |      D.pop(k[,d]) -> v, remove specified key and return the corresponding value.\n",
      " |      If key is not found, d is returned if given, otherwise KeyError is raised.\n",
      " |  \n",
      " |  popitem(self)\n",
      " |      D.popitem() -> (k, v), remove and return some (key, value) pair\n",
      " |      as a 2-tuple; but raise KeyError if D is empty.\n",
      " |  \n",
      " |  setdefault(self, key, default=None)\n",
      " |      D.setdefault(k[,d]) -> D.get(k,d), also set D[k]=d if k not in D\n",
      " |  \n",
      " |  update(self, other=(), /, **kwds)\n",
      " |      D.update([E, ]**F) -> None.  Update D from mapping/iterable E and F.\n",
      " |      If E present and has a .keys() method, does:     for k in E: D[k] = E[k]\n",
      " |      If E present and lacks .keys() method, does:     for (k, v) in E: D[k] = v\n",
      " |      In either case, this is followed by: for k, v in F.items(): D[k] = v\n",
      " |  \n",
      " |  ----------------------------------------------------------------------\n",
      " |  Methods inherited from collections.abc.Mapping:\n",
      " |  \n",
      " |  __contains__(self, key)\n",
      " |  \n",
      " |  __eq__(self, other)\n",
      " |      Return self==value.\n",
      " |  \n",
      " |  get(self, key, default=None)\n",
      " |      D.get(k[,d]) -> D[k] if k in D, else d.  d defaults to None.\n",
      " |  \n",
      " |  items(self)\n",
      " |      D.items() -> a set-like object providing a view on D's items\n",
      " |  \n",
      " |  values(self)\n",
      " |      D.values() -> an object providing a view on D's values\n",
      " |  \n",
      " |  ----------------------------------------------------------------------\n",
      " |  Data and other attributes inherited from collections.abc.Mapping:\n",
      " |  \n",
      " |  __hash__ = None\n",
      " |  \n",
      " |  __reversed__ = None\n",
      " |  \n",
      " |  ----------------------------------------------------------------------\n",
      " |  Class methods inherited from collections.abc.Collection:\n",
      " |  \n",
      " |  __subclasshook__(C) from abc.ABCMeta\n",
      " |      Abstract classes can override this to customize issubclass().\n",
      " |      \n",
      " |      This is invoked early on by abc.ABCMeta.__subclasscheck__().\n",
      " |      It should return True, False or NotImplemented.  If it returns\n",
      " |      NotImplemented, the normal algorithm is used.  Otherwise, it\n",
      " |      overrides the normal algorithm (and the outcome is cached).\n",
      " |  \n",
      " |  ----------------------------------------------------------------------\n",
      " |  Class methods inherited from collections.abc.Iterable:\n",
      " |  \n",
      " |  __class_getitem__ = GenericAlias(...) from abc.ABCMeta\n",
      " |      Represent a PEP 585 generic type\n",
      " |      \n",
      " |      E.g. for t = list[int], t.__origin__ is list and t.__args__ is (int,).\n",
      "\n"
     ]
    }
   ],
   "source": [
    "help(otter.Transient)"
   ]
  },
  {
   "cell_type": "markdown",
   "id": "666afd35-10cb-4689-9cc8-f04eedacd54d",
   "metadata": {},
   "source": [
    "The particularly useful methods here are the getters which return what we have deemed to be the \"default\" value of a property. \n",
    "\n",
    "First though, we must grab a transient from the OTTER dataset. Let's use ASASSN-14li since it has a pretty solid dataset."
   ]
  },
  {
   "cell_type": "code",
   "execution_count": 4,
   "id": "ca3a15ad-4ab8-4dcd-bb52-9b30c89af805",
   "metadata": {
    "tags": []
   },
   "outputs": [
    {
     "data": {
      "text/plain": [
       "Transient(\n",
       "\tName: ASASSN-14li,\n",
       "\tKeys: dict_keys(['distance', 'photometry', 'name', 'reference_alias', 'filter_alias', 'coordinate', 'classification', 'date_reference', 'host', 'schema_version'])\n",
       ")"
      ]
     },
     "execution_count": 4,
     "metadata": {},
     "output_type": "execute_result"
    }
   ],
   "source": [
    "t = db.query(names='ASASSN-14li')[0] # if you don't know why I use [0] go back to the basic_usage tutorial\n",
    "\n",
    "t"
   ]
  },
  {
   "cell_type": "markdown",
   "id": "a2751dde-4a84-4251-a3d0-c06eb1e7ebd8",
   "metadata": {},
   "source": [
    "And now that next few cells will demonstrate some of the more helpful getter methods and instance variables\n",
    "\n",
    "#### Name"
   ]
  },
  {
   "cell_type": "code",
   "execution_count": 5,
   "id": "1ac31166-0133-4f5d-af9b-c2737fd46572",
   "metadata": {
    "tags": []
   },
   "outputs": [
    {
     "data": {
      "text/plain": [
       "'ASASSN-14li'"
      ]
     },
     "execution_count": 5,
     "metadata": {},
     "output_type": "execute_result"
    }
   ],
   "source": [
    "t.default_name"
   ]
  },
  {
   "cell_type": "markdown",
   "id": "8994f9dc-67d7-463e-9448-da6fcdb89ece",
   "metadata": {},
   "source": [
    "#### Coordinate\n",
    "\n",
    "Note that this returns an astropy SkyCoord"
   ]
  },
  {
   "cell_type": "code",
   "execution_count": 6,
   "id": "b3fdd930-e8bf-4cae-a3f1-b59db5a5ee7d",
   "metadata": {
    "tags": []
   },
   "outputs": [
    {
     "data": {
      "text/plain": [
       "<SkyCoord (ICRS): (ra, dec) in deg\n",
       "    (192.06343875, 17.77402083)>"
      ]
     },
     "execution_count": 6,
     "metadata": {},
     "output_type": "execute_result"
    }
   ],
   "source": [
    "t.get_skycoord()"
   ]
  },
  {
   "cell_type": "markdown",
   "id": "11dd4573-b7d3-462b-8815-e74a5babd744",
   "metadata": {},
   "source": [
    "#### Classification\n",
    "\n",
    "This returns a tuple of (classification, our confidence, reference list)"
   ]
  },
  {
   "cell_type": "code",
   "execution_count": 7,
   "id": "2af31821-ad73-41e1-a631-5e6618f953fe",
   "metadata": {
    "tags": []
   },
   "outputs": [
    {
     "name": "stdout",
     "output_type": "stream",
     "text": [
      "ASASSN-14li is classified as TDE with a confidence of 1.0\n",
      "This has been confirmed by the following bibcodes:\n",
      "\t-2012PASP..124..668Y\n",
      "\t-2014ATel.6777....1J\n",
      "\t-2015Natur.526..542M\n",
      "\t-2016ApJ...819L..25A\n",
      "\t-2016ApJ...832L..10R\n",
      "\t-2016Sci...351...62V\n",
      "\t-2018MNRAS.475.4011B\n",
      "\t-2023PASP..135c4101G\n",
      "\t-2024MNRAS.527.2452M\n",
      "\t-ASAS-SN Supernovae\n"
     ]
    }
   ],
   "source": [
    "classification, conf, refs = t.get_classification()\n",
    "print(f'{t.default_name} is classified as {classification} with a confidence of {conf}')\n",
    "print(f'This has been confirmed by the following bibcodes:')\n",
    "for b in refs:\n",
    "    print(f'\\t-{b}')"
   ]
  },
  {
   "cell_type": "markdown",
   "id": "1bdc0a3d-b128-4146-b87e-b054490462c5",
   "metadata": {},
   "source": [
    "#### Redshift"
   ]
  },
  {
   "cell_type": "code",
   "execution_count": 8,
   "id": "6f24e66b-b5cd-4be7-9c95-87e68aa4c124",
   "metadata": {
    "tags": []
   },
   "outputs": [
    {
     "data": {
      "text/plain": [
       "'0.0206'"
      ]
     },
     "execution_count": 8,
     "metadata": {},
     "output_type": "execute_result"
    }
   ],
   "source": [
    "t.get_redshift()"
   ]
  },
  {
   "cell_type": "markdown",
   "id": "f3366a79-296d-4575-b0a5-c34df0d3358d",
   "metadata": {},
   "source": [
    "#### Discovery Date"
   ]
  },
  {
   "cell_type": "code",
   "execution_count": 9,
   "id": "0a8350ce-1fb2-47c2-8a10-59e80d689be2",
   "metadata": {
    "tags": []
   },
   "outputs": [
    {
     "data": {
      "text/plain": [
       "<Time object: scale='utc' format='mjd' value=56983.0>"
      ]
     },
     "execution_count": 9,
     "metadata": {},
     "output_type": "execute_result"
    }
   ],
   "source": [
    "t.get_discovery_date()"
   ]
  },
  {
   "cell_type": "markdown",
   "id": "da502375-bd50-4b12-9d83-a0da9c2339ba",
   "metadata": {},
   "source": [
    "#### Photometry\n",
    "Since the Transient object only has the unconverted photometry we recommend you use the `clean_photometry` method to convert everything appropriately."
   ]
  },
  {
   "cell_type": "code",
   "execution_count": 10,
   "id": "ac3bf923-6e77-4faf-93d5-d5b3fbec4954",
   "metadata": {
    "tags": []
   },
   "outputs": [
    {
     "name": "stderr",
     "output_type": "stream",
     "text": [
      "/home/nfranz/.local/lib/anaconda3/lib/python3.11/site-packages/astropy/units/function/logarithmic.py:67: RuntimeWarning: invalid value encountered in log10\n",
      "  return dex.to(self._function_unit, np.log10(x))\n"
     ]
    },
    {
     "data": {
      "text/html": [
       "<div>\n",
       "<style scoped>\n",
       "    .dataframe tbody tr th:only-of-type {\n",
       "        vertical-align: middle;\n",
       "    }\n",
       "\n",
       "    .dataframe tbody tr th {\n",
       "        vertical-align: top;\n",
       "    }\n",
       "\n",
       "    .dataframe thead th {\n",
       "        text-align: right;\n",
       "    }\n",
       "</style>\n",
       "<table border=\"1\" class=\"dataframe\">\n",
       "  <thead>\n",
       "    <tr style=\"text-align: right;\">\n",
       "      <th></th>\n",
       "      <th>reference</th>\n",
       "      <th>raw</th>\n",
       "      <th>raw_units</th>\n",
       "      <th>date</th>\n",
       "      <th>date_format</th>\n",
       "      <th>filter_key</th>\n",
       "      <th>computed</th>\n",
       "      <th>obs_type</th>\n",
       "      <th>upperlimit</th>\n",
       "      <th>corr_k</th>\n",
       "      <th>...</th>\n",
       "      <th>human_readable_refs</th>\n",
       "      <th>converted_wave</th>\n",
       "      <th>converted_wave_unit</th>\n",
       "      <th>converted_freq</th>\n",
       "      <th>converted_freq_unit</th>\n",
       "      <th>converted_flux</th>\n",
       "      <th>converted_flux_err</th>\n",
       "      <th>converted_flux_unit</th>\n",
       "      <th>converted_date</th>\n",
       "      <th>converted_date_unit</th>\n",
       "    </tr>\n",
       "  </thead>\n",
       "  <tbody>\n",
       "    <tr>\n",
       "      <th>624</th>\n",
       "      <td>2016Sci...351...62V</td>\n",
       "      <td>1.93</td>\n",
       "      <td>mJy</td>\n",
       "      <td>57014.08</td>\n",
       "      <td>mjd</td>\n",
       "      <td>15.7GHz</td>\n",
       "      <td>NaN</td>\n",
       "      <td>radio</td>\n",
       "      <td>False</td>\n",
       "      <td>False</td>\n",
       "      <td>...</td>\n",
       "      <td>van Velzen et al. (2016)</td>\n",
       "      <td>1.909506e+07</td>\n",
       "      <td>nm</td>\n",
       "      <td>1.570000e+01</td>\n",
       "      <td>GHz</td>\n",
       "      <td>15.686107</td>\n",
       "      <td>0.894027</td>\n",
       "      <td>mag(AB)</td>\n",
       "      <td>57014.08</td>\n",
       "      <td>MJD</td>\n",
       "    </tr>\n",
       "    <tr>\n",
       "      <th>625</th>\n",
       "      <td>2016Sci...351...62V</td>\n",
       "      <td>1.95</td>\n",
       "      <td>mJy</td>\n",
       "      <td>57015.17</td>\n",
       "      <td>mjd</td>\n",
       "      <td>15.7GHz</td>\n",
       "      <td>NaN</td>\n",
       "      <td>radio</td>\n",
       "      <td>False</td>\n",
       "      <td>False</td>\n",
       "      <td>...</td>\n",
       "      <td>van Velzen et al. (2016)</td>\n",
       "      <td>1.909506e+07</td>\n",
       "      <td>nm</td>\n",
       "      <td>1.570000e+01</td>\n",
       "      <td>GHz</td>\n",
       "      <td>15.674913</td>\n",
       "      <td>1.044994</td>\n",
       "      <td>mag(AB)</td>\n",
       "      <td>57015.17</td>\n",
       "      <td>MJD</td>\n",
       "    </tr>\n",
       "    <tr>\n",
       "      <th>626</th>\n",
       "      <td>2016Sci...351...62V</td>\n",
       "      <td>1.98</td>\n",
       "      <td>mJy</td>\n",
       "      <td>57017.10</td>\n",
       "      <td>mjd</td>\n",
       "      <td>15.7GHz</td>\n",
       "      <td>NaN</td>\n",
       "      <td>radio</td>\n",
       "      <td>False</td>\n",
       "      <td>False</td>\n",
       "      <td>...</td>\n",
       "      <td>van Velzen et al. (2016)</td>\n",
       "      <td>1.909506e+07</td>\n",
       "      <td>nm</td>\n",
       "      <td>1.570000e+01</td>\n",
       "      <td>GHz</td>\n",
       "      <td>15.658337</td>\n",
       "      <td>0.869908</td>\n",
       "      <td>mag(AB)</td>\n",
       "      <td>57017.10</td>\n",
       "      <td>MJD</td>\n",
       "    </tr>\n",
       "    <tr>\n",
       "      <th>627</th>\n",
       "      <td>2016Sci...351...62V</td>\n",
       "      <td>2.1</td>\n",
       "      <td>mJy</td>\n",
       "      <td>57021.11</td>\n",
       "      <td>mjd</td>\n",
       "      <td>15.7GHz</td>\n",
       "      <td>NaN</td>\n",
       "      <td>radio</td>\n",
       "      <td>False</td>\n",
       "      <td>False</td>\n",
       "      <td>...</td>\n",
       "      <td>van Velzen et al. (2016)</td>\n",
       "      <td>1.909506e+07</td>\n",
       "      <td>nm</td>\n",
       "      <td>1.570000e+01</td>\n",
       "      <td>GHz</td>\n",
       "      <td>15.594452</td>\n",
       "      <td>0.891112</td>\n",
       "      <td>mag(AB)</td>\n",
       "      <td>57021.11</td>\n",
       "      <td>MJD</td>\n",
       "    </tr>\n",
       "    <tr>\n",
       "      <th>628</th>\n",
       "      <td>2016Sci...351...62V</td>\n",
       "      <td>1.58</td>\n",
       "      <td>mJy</td>\n",
       "      <td>57039.09</td>\n",
       "      <td>mjd</td>\n",
       "      <td>15.7GHz</td>\n",
       "      <td>NaN</td>\n",
       "      <td>radio</td>\n",
       "      <td>False</td>\n",
       "      <td>False</td>\n",
       "      <td>...</td>\n",
       "      <td>van Velzen et al. (2016)</td>\n",
       "      <td>1.909506e+07</td>\n",
       "      <td>nm</td>\n",
       "      <td>1.570000e+01</td>\n",
       "      <td>GHz</td>\n",
       "      <td>15.903357</td>\n",
       "      <td>0.905887</td>\n",
       "      <td>mag(AB)</td>\n",
       "      <td>57039.09</td>\n",
       "      <td>MJD</td>\n",
       "    </tr>\n",
       "    <tr>\n",
       "      <th>...</th>\n",
       "      <td>...</td>\n",
       "      <td>...</td>\n",
       "      <td>...</td>\n",
       "      <td>...</td>\n",
       "      <td>...</td>\n",
       "      <td>...</td>\n",
       "      <td>...</td>\n",
       "      <td>...</td>\n",
       "      <td>...</td>\n",
       "      <td>...</td>\n",
       "      <td>...</td>\n",
       "      <td>...</td>\n",
       "      <td>...</td>\n",
       "      <td>...</td>\n",
       "      <td>...</td>\n",
       "      <td>...</td>\n",
       "      <td>...</td>\n",
       "      <td>...</td>\n",
       "      <td>...</td>\n",
       "      <td>...</td>\n",
       "      <td>...</td>\n",
       "    </tr>\n",
       "    <tr>\n",
       "      <th>16</th>\n",
       "      <td>[2017ApJ...838..149A]</td>\n",
       "      <td>0.0791</td>\n",
       "      <td>ct</td>\n",
       "      <td>57364.5</td>\n",
       "      <td>MJD</td>\n",
       "      <td>0.3 - 2.0</td>\n",
       "      <td>NaN</td>\n",
       "      <td>xray</td>\n",
       "      <td>False</td>\n",
       "      <td>None</td>\n",
       "      <td>...</td>\n",
       "      <td>Auchettl, Guillochon, &amp; Ramirez-Ruiz (2017)</td>\n",
       "      <td>7.293188e-01</td>\n",
       "      <td>nm</td>\n",
       "      <td>4.110582e+08</td>\n",
       "      <td>GHz</td>\n",
       "      <td>25.780686</td>\n",
       "      <td>0.609480</td>\n",
       "      <td>mag(AB)</td>\n",
       "      <td>57364.50</td>\n",
       "      <td>MJD</td>\n",
       "    </tr>\n",
       "    <tr>\n",
       "      <th>17</th>\n",
       "      <td>[2017ApJ...838..149A]</td>\n",
       "      <td>0.0717</td>\n",
       "      <td>ct</td>\n",
       "      <td>57425.5</td>\n",
       "      <td>MJD</td>\n",
       "      <td>0.3 - 2.0</td>\n",
       "      <td>NaN</td>\n",
       "      <td>xray</td>\n",
       "      <td>False</td>\n",
       "      <td>None</td>\n",
       "      <td>...</td>\n",
       "      <td>Auchettl, Guillochon, &amp; Ramirez-Ruiz (2017)</td>\n",
       "      <td>7.293188e-01</td>\n",
       "      <td>nm</td>\n",
       "      <td>4.110582e+08</td>\n",
       "      <td>GHz</td>\n",
       "      <td>25.887330</td>\n",
       "      <td>0.964005</td>\n",
       "      <td>mag(AB)</td>\n",
       "      <td>57425.50</td>\n",
       "      <td>MJD</td>\n",
       "    </tr>\n",
       "    <tr>\n",
       "      <th>18</th>\n",
       "      <td>[2017ApJ...838..149A]</td>\n",
       "      <td>0.0424</td>\n",
       "      <td>ct</td>\n",
       "      <td>57538.5</td>\n",
       "      <td>MJD</td>\n",
       "      <td>0.3 - 2.0</td>\n",
       "      <td>NaN</td>\n",
       "      <td>xray</td>\n",
       "      <td>False</td>\n",
       "      <td>None</td>\n",
       "      <td>...</td>\n",
       "      <td>Auchettl, Guillochon, &amp; Ramirez-Ruiz (2017)</td>\n",
       "      <td>7.293188e-01</td>\n",
       "      <td>nm</td>\n",
       "      <td>4.110582e+08</td>\n",
       "      <td>GHz</td>\n",
       "      <td>26.457713</td>\n",
       "      <td>1.179365</td>\n",
       "      <td>mag(AB)</td>\n",
       "      <td>57538.50</td>\n",
       "      <td>MJD</td>\n",
       "    </tr>\n",
       "    <tr>\n",
       "      <th>19</th>\n",
       "      <td>[2017ApJ...838..149A]</td>\n",
       "      <td>0.664</td>\n",
       "      <td>ct</td>\n",
       "      <td>54818.8</td>\n",
       "      <td>MJD</td>\n",
       "      <td>0.3 - 2.0</td>\n",
       "      <td>NaN</td>\n",
       "      <td>xray</td>\n",
       "      <td>True</td>\n",
       "      <td>None</td>\n",
       "      <td>...</td>\n",
       "      <td>Auchettl, Guillochon, &amp; Ramirez-Ruiz (2017)</td>\n",
       "      <td>7.293188e-01</td>\n",
       "      <td>nm</td>\n",
       "      <td>4.110582e+08</td>\n",
       "      <td>GHz</td>\n",
       "      <td>26.085101</td>\n",
       "      <td>NaN</td>\n",
       "      <td>mag(AB)</td>\n",
       "      <td>54818.80</td>\n",
       "      <td>MJD</td>\n",
       "    </tr>\n",
       "    <tr>\n",
       "      <th>20</th>\n",
       "      <td>[2017ApJ...838..149A]</td>\n",
       "      <td>0.75736</td>\n",
       "      <td>ct</td>\n",
       "      <td>56999.5</td>\n",
       "      <td>MJD</td>\n",
       "      <td>0.3 - 2.0</td>\n",
       "      <td>NaN</td>\n",
       "      <td>xray</td>\n",
       "      <td>True</td>\n",
       "      <td>None</td>\n",
       "      <td>...</td>\n",
       "      <td>Auchettl, Guillochon, &amp; Ramirez-Ruiz (2017)</td>\n",
       "      <td>7.293188e-01</td>\n",
       "      <td>nm</td>\n",
       "      <td>4.110582e+08</td>\n",
       "      <td>GHz</td>\n",
       "      <td>25.942265</td>\n",
       "      <td>NaN</td>\n",
       "      <td>mag(AB)</td>\n",
       "      <td>56999.50</td>\n",
       "      <td>MJD</td>\n",
       "    </tr>\n",
       "  </tbody>\n",
       "</table>\n",
       "<p>763 rows × 36 columns</p>\n",
       "</div>"
      ],
      "text/plain": [
       "                 reference      raw raw_units      date date_format  \\\n",
       "624    2016Sci...351...62V     1.93       mJy  57014.08         mjd   \n",
       "625    2016Sci...351...62V     1.95       mJy  57015.17         mjd   \n",
       "626    2016Sci...351...62V     1.98       mJy  57017.10         mjd   \n",
       "627    2016Sci...351...62V      2.1       mJy  57021.11         mjd   \n",
       "628    2016Sci...351...62V     1.58       mJy  57039.09         mjd   \n",
       "..                     ...      ...       ...       ...         ...   \n",
       "16   [2017ApJ...838..149A]   0.0791        ct   57364.5         MJD   \n",
       "17   [2017ApJ...838..149A]   0.0717        ct   57425.5         MJD   \n",
       "18   [2017ApJ...838..149A]   0.0424        ct   57538.5         MJD   \n",
       "19   [2017ApJ...838..149A]    0.664        ct   54818.8         MJD   \n",
       "20   [2017ApJ...838..149A]  0.75736        ct   56999.5         MJD   \n",
       "\n",
       "    filter_key computed obs_type upperlimit corr_k  ...  \\\n",
       "624    15.7GHz      NaN    radio      False  False  ...   \n",
       "625    15.7GHz      NaN    radio      False  False  ...   \n",
       "626    15.7GHz      NaN    radio      False  False  ...   \n",
       "627    15.7GHz      NaN    radio      False  False  ...   \n",
       "628    15.7GHz      NaN    radio      False  False  ...   \n",
       "..         ...      ...      ...        ...    ...  ...   \n",
       "16   0.3 - 2.0      NaN     xray      False   None  ...   \n",
       "17   0.3 - 2.0      NaN     xray      False   None  ...   \n",
       "18   0.3 - 2.0      NaN     xray      False   None  ...   \n",
       "19   0.3 - 2.0      NaN     xray       True   None  ...   \n",
       "20   0.3 - 2.0      NaN     xray       True   None  ...   \n",
       "\n",
       "                             human_readable_refs converted_wave  \\\n",
       "624                     van Velzen et al. (2016)   1.909506e+07   \n",
       "625                     van Velzen et al. (2016)   1.909506e+07   \n",
       "626                     van Velzen et al. (2016)   1.909506e+07   \n",
       "627                     van Velzen et al. (2016)   1.909506e+07   \n",
       "628                     van Velzen et al. (2016)   1.909506e+07   \n",
       "..                                           ...            ...   \n",
       "16   Auchettl, Guillochon, & Ramirez-Ruiz (2017)   7.293188e-01   \n",
       "17   Auchettl, Guillochon, & Ramirez-Ruiz (2017)   7.293188e-01   \n",
       "18   Auchettl, Guillochon, & Ramirez-Ruiz (2017)   7.293188e-01   \n",
       "19   Auchettl, Guillochon, & Ramirez-Ruiz (2017)   7.293188e-01   \n",
       "20   Auchettl, Guillochon, & Ramirez-Ruiz (2017)   7.293188e-01   \n",
       "\n",
       "    converted_wave_unit converted_freq  converted_freq_unit converted_flux  \\\n",
       "624                  nm   1.570000e+01                  GHz      15.686107   \n",
       "625                  nm   1.570000e+01                  GHz      15.674913   \n",
       "626                  nm   1.570000e+01                  GHz      15.658337   \n",
       "627                  nm   1.570000e+01                  GHz      15.594452   \n",
       "628                  nm   1.570000e+01                  GHz      15.903357   \n",
       "..                  ...            ...                  ...            ...   \n",
       "16                   nm   4.110582e+08                  GHz      25.780686   \n",
       "17                   nm   4.110582e+08                  GHz      25.887330   \n",
       "18                   nm   4.110582e+08                  GHz      26.457713   \n",
       "19                   nm   4.110582e+08                  GHz      26.085101   \n",
       "20                   nm   4.110582e+08                  GHz      25.942265   \n",
       "\n",
       "    converted_flux_err converted_flux_unit  converted_date converted_date_unit  \n",
       "624           0.894027             mag(AB)        57014.08                 MJD  \n",
       "625           1.044994             mag(AB)        57015.17                 MJD  \n",
       "626           0.869908             mag(AB)        57017.10                 MJD  \n",
       "627           0.891112             mag(AB)        57021.11                 MJD  \n",
       "628           0.905887             mag(AB)        57039.09                 MJD  \n",
       "..                 ...                 ...             ...                 ...  \n",
       "16            0.609480             mag(AB)        57364.50                 MJD  \n",
       "17            0.964005             mag(AB)        57425.50                 MJD  \n",
       "18            1.179365             mag(AB)        57538.50                 MJD  \n",
       "19                 NaN             mag(AB)        54818.80                 MJD  \n",
       "20                 NaN             mag(AB)        56999.50                 MJD  \n",
       "\n",
       "[763 rows x 36 columns]"
      ]
     },
     "execution_count": 10,
     "metadata": {},
     "output_type": "execute_result"
    }
   ],
   "source": [
    "t.clean_photometry()"
   ]
  },
  {
   "cell_type": "markdown",
   "id": "752e8218-296c-457c-84bf-6ce7d2016851",
   "metadata": {},
   "source": [
    "#### Host Information\n",
    "\n",
    "This will return a list of otter `Host` objects. See the tutorial [host_objects.ipynb](./host_objects.ipynb) for more details on the functionality we provide here.\n",
    "\n",
    "The Host objects only store metadata on the host like redshift, ra, dec, and name. If a Host is not in OTTER, we attempt to find the best matching hosts using [astro-ghost](https://uiucsnastro-ghost.readthedocs.io/en/latest/)."
   ]
  },
  {
   "cell_type": "code",
   "execution_count": 11,
   "id": "b0914bb8-e49f-4631-926c-6b3b9c6c0b6f",
   "metadata": {
    "tags": []
   },
   "outputs": [
    {
     "data": {
      "text/plain": [
       "(SDSS J124815.23+174626.4 @ (RA, Dec)=(192.06249999999997 deg,17.77401111111111 deg),\n",
       " list,\n",
       " otter.io.host.Host)"
      ]
     },
     "execution_count": 11,
     "metadata": {},
     "output_type": "execute_result"
    }
   ],
   "source": [
    "hlist = t.get_host()\n",
    "h0 = hlist[0]\n",
    "\n",
    "h0, type(hlist), type(h0)"
   ]
  },
  {
   "cell_type": "markdown",
   "id": "cdaf49f5-e8bc-430b-ac37-119adf24e365",
   "metadata": {},
   "source": [
    "### Advanced Usage of the Transient Class\n",
    "\n",
    "Say you want other information that is not easily accessible by the getters shown above. Or, you think we are wrong about the default value for that property. You can then just treat the Transient object like a python dictionary to access the other values for those properties yourself.\n",
    "\n",
    "First, it has a `keys` method, so let's start there."
   ]
  },
  {
   "cell_type": "code",
   "execution_count": 12,
   "id": "f47d03b5-5231-454a-9eae-ea917b9162e9",
   "metadata": {
    "tags": []
   },
   "outputs": [
    {
     "data": {
      "text/plain": [
       "dict_keys(['distance', 'photometry', 'name', 'reference_alias', 'filter_alias', 'coordinate', 'classification', 'date_reference', 'host', 'schema_version'])"
      ]
     },
     "execution_count": 12,
     "metadata": {},
     "output_type": "execute_result"
    }
   ],
   "source": [
    "t.keys()"
   ]
  },
  {
   "cell_type": "markdown",
   "id": "9099ec23-f035-4e9b-bfdd-14f3b71701a4",
   "metadata": {},
   "source": [
    "Let's say you want to see what other distance measurements exist for ASASSN-14li besides the redshift. Let's check that property"
   ]
  },
  {
   "cell_type": "code",
   "execution_count": 13,
   "id": "fac48b2f-2952-426b-81d6-366fab7b99ca",
   "metadata": {
    "tags": []
   },
   "outputs": [
    {
     "data": {
      "text/plain": [
       "[{'value': '0.0205778',\n",
       "  'distance_type': 'redshift',\n",
       "  'reference': ['2015Natur.526..542M', '2024MNRAS.527.2452M'],\n",
       "  'default': False},\n",
       " {'value': '0.0206',\n",
       "  'distance_type': 'redshift',\n",
       "  'reference': ['2012PASP..124..668Y',\n",
       "   '2014ATel.6777....1J',\n",
       "   '2015arXiv150701598H',\n",
       "   '2016ApJ...819L..25A',\n",
       "   '2016ApJ...832L..10R',\n",
       "   '2016Sci...351...62V',\n",
       "   '2017ApJ...838..149A',\n",
       "   '2018MNRAS.475.4011B',\n",
       "   '2023PASP..135c4101G',\n",
       "   'ASAS-SN Supernovae'],\n",
       "  'default': True},\n",
       " {'value': '0.021',\n",
       "  'distance_type': 'redshift',\n",
       "  'reference': ['2024arXiv240712097A'],\n",
       "  'default': False},\n",
       " {'value': '81.0',\n",
       "  'distance_type': 'dispersion_measure',\n",
       "  'unit': 'km/s',\n",
       "  'reference': ['2017MNRAS.471.1694W', '2024MNRAS.527.2452M'],\n",
       "  'default': True},\n",
       " {'value': '90.7',\n",
       "  'distance_type': 'comoving',\n",
       "  'unit': 'Mpc',\n",
       "  'reference': ['2012PASP..124..668Y',\n",
       "   '2014ATel.6777....1J',\n",
       "   '2015arXiv150701598H',\n",
       "   '2016A&A...594A..13P',\n",
       "   '2017ApJ...835...64G',\n",
       "   '2017ApJ...838..149A',\n",
       "   'ASAS-SN Supernovae'],\n",
       "  'default': True},\n",
       " {'value': '92.6',\n",
       "  'distance_type': 'luminosity',\n",
       "  'unit': 'Mpc',\n",
       "  'reference': ['2012PASP..124..668Y',\n",
       "   '2014ATel.6777....1J',\n",
       "   '2015arXiv150701598H',\n",
       "   '2016A&A...594A..13P',\n",
       "   '2017ApJ...835...64G',\n",
       "   '2017ApJ...838..149A',\n",
       "   'ASAS-SN Supernovae'],\n",
       "  'default': True}]"
      ]
     },
     "execution_count": 13,
     "metadata": {},
     "output_type": "execute_result"
    }
   ],
   "source": [
    "t['distance']"
   ]
  },
  {
   "cell_type": "markdown",
   "id": "de4e2bbc-fe8d-4e7d-92c2-109edc9cc743",
   "metadata": {},
   "source": [
    "Just like most of the properties here, it is a list of distances with some keywords that tell you about it. \n",
    "\n",
    "To work with this, we can simply put it in a pandas dataframe and filter it accordingly. Say you only want luminosity distances, we can then filter that pandas dataframe by the `distance_type` column."
   ]
  },
  {
   "cell_type": "code",
   "execution_count": 14,
   "id": "9196b84a-f88f-4c59-ab9e-481940775a14",
   "metadata": {
    "tags": []
   },
   "outputs": [
    {
     "data": {
      "text/html": [
       "<div>\n",
       "<style scoped>\n",
       "    .dataframe tbody tr th:only-of-type {\n",
       "        vertical-align: middle;\n",
       "    }\n",
       "\n",
       "    .dataframe tbody tr th {\n",
       "        vertical-align: top;\n",
       "    }\n",
       "\n",
       "    .dataframe thead th {\n",
       "        text-align: right;\n",
       "    }\n",
       "</style>\n",
       "<table border=\"1\" class=\"dataframe\">\n",
       "  <thead>\n",
       "    <tr style=\"text-align: right;\">\n",
       "      <th></th>\n",
       "      <th>value</th>\n",
       "      <th>distance_type</th>\n",
       "      <th>reference</th>\n",
       "      <th>default</th>\n",
       "      <th>unit</th>\n",
       "    </tr>\n",
       "  </thead>\n",
       "  <tbody>\n",
       "    <tr>\n",
       "      <th>5</th>\n",
       "      <td>92.6</td>\n",
       "      <td>luminosity</td>\n",
       "      <td>[2012PASP..124..668Y, 2014ATel.6777....1J, 201...</td>\n",
       "      <td>True</td>\n",
       "      <td>Mpc</td>\n",
       "    </tr>\n",
       "  </tbody>\n",
       "</table>\n",
       "</div>"
      ],
      "text/plain": [
       "  value distance_type                                          reference  \\\n",
       "5  92.6    luminosity  [2012PASP..124..668Y, 2014ATel.6777....1J, 201...   \n",
       "\n",
       "   default unit  \n",
       "5     True  Mpc  "
      ]
     },
     "execution_count": 14,
     "metadata": {},
     "output_type": "execute_result"
    }
   ],
   "source": [
    "dists = pd.DataFrame(t['distance'])\n",
    "lum_dists = dists[dists.distance_type == 'luminosity']\n",
    "lum_dists"
   ]
  },
  {
   "cell_type": "markdown",
   "id": "268867e4-f86d-4d55-820f-043b7d375456",
   "metadata": {},
   "source": [
    "Which then gives you a luminosity distance and the references you need to cite when you put it in your paper!\n",
    "\n",
    "A similar process can be used for the rest of the properties so I won't go through them in detail here but just remember, the Transient objects are basically just fancy python dictionaries!"
   ]
  }
 ],
 "metadata": {
  "kernelspec": {
   "display_name": "Python 3 (ipykernel)",
   "language": "python",
   "name": "python3"
  },
  "language_info": {
   "codemirror_mode": {
    "name": "ipython",
    "version": 3
   },
   "file_extension": ".py",
   "mimetype": "text/x-python",
   "name": "python",
   "nbconvert_exporter": "python",
   "pygments_lexer": "ipython3",
   "version": "3.11.4"
  }
 },
 "nbformat": 4,
 "nbformat_minor": 5
}
