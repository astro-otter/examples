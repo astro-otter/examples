{
 "cells": [
  {
   "cell_type": "markdown",
   "id": "7294ff7a-a76a-4187-b7ae-1c80a237e936",
   "metadata": {},
   "source": [
    "# Welcome to OTTER!\n",
    "* This repo provides tutorials for accessing the OTTER datasets and on some basic tools it provides.\n",
    "* For API documentation see [https://astro-otter.readthedocs.io](https://astro-otter.readthedocs.io)\n",
    "* If you have issues with the dataset, wish there was a feature that is missing in the data or api, or have issues with the API, please add an issue in [our github issues page](https://github.com/astro-otter/otter/issues/new/choose). \n",
    "\n",
    "We recommend you follow these tutorial notebooks in the following order:\n",
    "\n",
    "1. [basic_usage.ipynb](./basic_usage.ipynb): Goes through the basic access of the OTTER dataset.\n",
    "2. [transient_objects.ipynb](./transient_objects.ipynb): Goes through the details of the OTTER Transient object which allows for easy access of many commonly used properties.\n",
    "3. [host_objects.ipynb](./host_objects.ipynb): Goes through working with Host information of the objects in otter.\n",
    "4. [plotting.ipynb](./plotting.ipynb): Goes through some useful plotting utils that OTTER provides for quick visualization of the data.\n",
    "5. [modeling.ipynb](./modeling.ipynb): Goes through applying MOSFiT models to OTTER datasets"
   ]
  },
  {
   "cell_type": "code",
   "execution_count": null,
   "id": "75badcd3-946b-45e6-aa0a-0ab9dd9706fd",
   "metadata": {},
   "outputs": [],
   "source": []
  }
 ],
 "metadata": {
  "kernelspec": {
   "display_name": "Python 3 (ipykernel)",
   "language": "python",
   "name": "python3"
  },
  "language_info": {
   "codemirror_mode": {
    "name": "ipython",
    "version": 3
   },
   "file_extension": ".py",
   "mimetype": "text/x-python",
   "name": "python",
   "nbconvert_exporter": "python",
   "pygments_lexer": "ipython3",
   "version": "3.11.7"
  }
 },
 "nbformat": 4,
 "nbformat_minor": 5
}
