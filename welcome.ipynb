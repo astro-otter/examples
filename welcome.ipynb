{
 "cells": [
  {
   "cell_type": "markdown",
   "id": "7294ff7a-a76a-4187-b7ae-1c80a237e936",
   "metadata": {},
   "source": [
    "# Welcome to OTTER!\n",
    "* This repo provides tutorials for accessing the OTTER datasets and on some basic tools it provides.\n",
    "* For API documentation see [https://astro-otter.readthedocs.io](https://astro-otter.readthedocs.io)\n",
    "* If you have issues with the dataset, wish there was a feature that is missing in the data or api, or have issues with the API, please add an issue in [our github issues page](https://github.com/astro-otter/otter/issues/new/choose). \n",
    "\n",
    "We recommend you follow these tutorial notebooks in the following order:\n",
    "\n",
    "1. [basic_usage.ipynb](./basic_usage.ipynb)"
   ]
  }
 ],
 "metadata": {
  "kernelspec": {
   "display_name": "Python 3 (ipykernel)",
   "language": "python",
   "name": "python3"
  },
  "language_info": {
   "codemirror_mode": {
    "name": "ipython",
    "version": 3
   },
   "file_extension": ".py",
   "mimetype": "text/x-python",
   "name": "python",
   "nbconvert_exporter": "python",
   "pygments_lexer": "ipython3",
   "version": "3.11.4"
  }
 },
 "nbformat": 4,
 "nbformat_minor": 5
}
