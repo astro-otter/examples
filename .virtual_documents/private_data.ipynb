


%load_ext autoreload
%autoreload 2

import os
import pandas as pd
import matplotlib.pyplot as plt
import otter





meta = pd.read_csv("sample_meta.csv")
meta


phot = pd.read_csv("sample_phot.csv")
phot





# Connect to the otter database normally
db = otter.Otter()

# then use the Otter.from_csvs static method to read in the csvs simultaneously and tell otter where they are stored
db = otter.Otter.from_csvs(
    metafile = "sample_meta.csv",
    photfile = "sample_phot.csv",
    local_outpath = os.path.join(os.getcwd(), "private_otter_data"),
    db = db
)

print()
print(f"Your private data is stored in {db.DATADIR}")





allphot = db.get_phot(
    names="2018hyz", 
    obs_type="radio", 
    flux_unit="mJy", 
    query_private=True,
    return_type="pandas"
)
allphot[allphot.reference == 'private']





allphot[allphot.filter_name == "L"]


fig, ax = plt.subplots()

disc_date = db.get_meta(names="18hyz")[0].get_discovery_date().mjd

otter.plot_light_curve(
    date = allphot.converted_date - disc_date,
    flux = allphot.converted_flux,
    flux_err = allphot.converted_flux_err,
    marker = "o",
    linestyle = "none",
    fig=fig,
    ax=ax
)

ax.set_xlim(10,3000)
ax.set_xscale("log")
ax.set_yscale("log")






