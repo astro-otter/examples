


import os
import otter

from astropy.coordinates import SkyCoord
from astropy import units as u

import matplotlib.pyplot as plt
import numpy as np





db = otter.Otter()
meta = db.get_meta(save=False)
redshifts = np.array([t.get_redshift() for t in meta if "distance" in t and len(t["distance"]) > 0])
fig, ax = plt.subplots()
ax.hist(redshifts.astype(float), bins=20)
ax.set_ylabel("N")
ax.set_xlabel("z")





swj1644_list = db.query(names='Sw J1644+57')
swj1644_list





swj1644 = swj1644_list[0] # just to get rid of the list

swj1644['name/alias']





db.query(names='GRB 110328A')[0]





db.query(names=['Sw J1644+57', '2018hyz', '2018zr'])





db.query(minz=0.1, maxz=0.2)





db.query(minz=1)








# first construct a SkyCoord
coord = SkyCoord('18h00m00.0s', '+66d33m38.84s', unit=(u.hourangle, u.deg))
radius = (15*u.deg).to(u.arcsec).value # must just provide it as a float

db.cone_search(coord, radius=radius)





phot = db.get_phot(names=['Sw J1644+57', '2018hyz', 'ASASSN-14li'])
phot





radiophot = db.get_phot(names=['Sw J1644+57', '2018hyz', 'ASASSN-14li'], obs_type='radio', 
                        flux_unit='uJy', return_type='pandas')
radiophot





fig, axs = plt.subplots(1,3, figsize=(18,6))

for (name, data), ax in zip(radiophot.groupby('name'), axs):
    
    discovery_date = db.get_meta(names=name)[0].get_discovery_date().mjd
    
    for (f, df) in data.groupby('filter_name'):
        fig = otter.plotter.plotter.plot_light_curve(date=df.converted_date - discovery_date, 
                                             flux=df.converted_flux,
                                             flux_err=df.converted_flux_err,
                                             ax=ax,
                                             fig=fig,
                                             marker='o',
                                             linestyle='none',
                                             label=f'{name}: {f}')
        
    ax.legend()
    ax.set_xlim(10,4000)
    ax.set_xscale("log")
    ax.set_yscale("log")



