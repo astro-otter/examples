


# imports
import os
import otter

from astropy.coordinates import SkyCoord
from astropy import units as u
import pandas as pd

import matplotlib.pyplot as plt


# connect to the dataset
db = otter.Otter()








t = db.query(names='ASASSN-14li')[0] # if you don't know why I use [0] go back to the basic_usage tutorial

t





t.default_name





t.get_skycoord()





classification, conf, refs = t.get_classification()
print(f'{t.default_name} is classified as {classification} with a confidence of {conf}')
print(f'This has been confirmed by the following bibcodes:')
for b in refs:
    print(f'\t-{b}')





t.get_redshift()





t.get_discovery_date()





t.clean_photometry()





hlist = t.get_host()
h0 = hlist[0]

h0, type(hlist), type(h0)





t.keys()





t['distance']





dists = pd.DataFrame(t['distance'])
lum_dists = dists[dists.distance_type == 'luminosity']
lum_dists



